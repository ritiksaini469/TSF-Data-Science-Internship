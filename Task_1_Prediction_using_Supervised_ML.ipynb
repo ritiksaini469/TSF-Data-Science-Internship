{
  "nbformat": 4,
  "nbformat_minor": 0,
  "metadata": {
    "colab": {
      "provenance": [],
      "collapsed_sections": [],
      "include_colab_link": true
    },
    "kernelspec": {
      "name": "python3",
      "display_name": "Python 3"
    },
    "language_info": {
      "name": "python"
    }
  },
  "cells": [
    {
      "cell_type": "markdown",
      "metadata": {
        "id": "view-in-github",
        "colab_type": "text"
      },
      "source": [
        "<a href=\"https://colab.research.google.com/github/ritiksaini469/TSF-Data-Science-Internship/blob/main/Task_1_Prediction_using_Supervised_ML.ipynb\" target=\"_parent\"><img src=\"https://colab.research.google.com/assets/colab-badge.svg\" alt=\"Open In Colab\"/></a>"
      ]
    },
    {
      "cell_type": "markdown",
      "source": [
        "## **GRIP : The Sparks Foundation**\n",
        "![TSP.png](data:image/png;base64,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)\n",
        "\n",
        "### **Data Science & Business Analytics Intern**\n",
        "\n",
        "### **Author:  Ritik Saini**\n",
        "\n",
        "\n",
        "### **Task 1 : Prediction using Supervised ML**\n"
      ],
      "metadata": {
        "id": "9p1O_SX389Wv"
      }
    },
    {
      "cell_type": "markdown",
      "source": [
        "***In this task we have to predict the percentage score of a student based on the number of hours studied. The task has two variables where the feature is the number of hour studied and the target value is the percentage score. This can be solved using simple linear regression.***"
      ],
      "metadata": {
        "id": "rTmyV8ri9cLT"
      }
    },
    {
      "cell_type": "markdown",
      "source": [
        "**Dataset :-** https://bit.ly/task1-dataset"
      ],
      "metadata": {
        "id": "aAZaX2Va-sc1"
      }
    },
    {
      "cell_type": "markdown",
      "source": [
        "### **Step 1 - Importing Libraries**"
      ],
      "metadata": {
        "id": "xE9WbHsX-0j7"
      }
    },
    {
      "cell_type": "code",
      "source": [
        "# Importing all libraries required in this notebook\n",
        "import pandas as pd\n",
        "import numpy as np\n",
        "import matplotlib.pyplot as plt\n",
        "import seaborn as sns\n",
        "\n",
        "from sklearn.model_selection import train_test_split\n",
        "from sklearn import linear_model\n",
        "from sklearn import metrics\n",
        "from sklearn.metrics import r2_score"
      ],
      "metadata": {
        "id": "fWsQmszy-tjn"
      },
      "execution_count": null,
      "outputs": []
    },
    {
      "cell_type": "code",
      "source": [
        "# Reading data from remote link\n",
        "url = \"https://bit.ly/task1-dataset\"\n",
        "data = pd.read_csv(url) \n",
        "data"
      ],
      "metadata": {
        "colab": {
          "base_uri": "https://localhost:8080/",
          "height": 833
        },
        "id": "dLuvpGFz_ltD",
        "outputId": "e098c4e6-6c6d-46b7-d3c3-c1e4ab91114c"
      },
      "execution_count": null,
      "outputs": [
        {
          "output_type": "execute_result",
          "data": {
            "text/plain": [
              "    Hours  Scores\n",
              "0     2.5      21\n",
              "1     5.1      47\n",
              "2     3.2      27\n",
              "3     8.5      75\n",
              "4     3.5      30\n",
              "5     1.5      20\n",
              "6     9.2      88\n",
              "7     5.5      60\n",
              "8     8.3      81\n",
              "9     2.7      25\n",
              "10    7.7      85\n",
              "11    5.9      62\n",
              "12    4.5      41\n",
              "13    3.3      42\n",
              "14    1.1      17\n",
              "15    8.9      95\n",
              "16    2.5      30\n",
              "17    1.9      24\n",
              "18    6.1      67\n",
              "19    7.4      69\n",
              "20    2.7      30\n",
              "21    4.8      54\n",
              "22    3.8      35\n",
              "23    6.9      76\n",
              "24    7.8      86"
            ],
            "text/html": [
              "\n",
              "  <div id=\"df-d6052b70-0bca-41da-82d5-33cfbb1ab49f\">\n",
              "    <div class=\"colab-df-container\">\n",
              "      <div>\n",
              "<style scoped>\n",
              "    .dataframe tbody tr th:only-of-type {\n",
              "        vertical-align: middle;\n",
              "    }\n",
              "\n",
              "    .dataframe tbody tr th {\n",
              "        vertical-align: top;\n",
              "    }\n",
              "\n",
              "    .dataframe thead th {\n",
              "        text-align: right;\n",
              "    }\n",
              "</style>\n",
              "<table border=\"1\" class=\"dataframe\">\n",
              "  <thead>\n",
              "    <tr style=\"text-align: right;\">\n",
              "      <th></th>\n",
              "      <th>Hours</th>\n",
              "      <th>Scores</th>\n",
              "    </tr>\n",
              "  </thead>\n",
              "  <tbody>\n",
              "    <tr>\n",
              "      <th>0</th>\n",
              "      <td>2.5</td>\n",
              "      <td>21</td>\n",
              "    </tr>\n",
              "    <tr>\n",
              "      <th>1</th>\n",
              "      <td>5.1</td>\n",
              "      <td>47</td>\n",
              "    </tr>\n",
              "    <tr>\n",
              "      <th>2</th>\n",
              "      <td>3.2</td>\n",
              "      <td>27</td>\n",
              "    </tr>\n",
              "    <tr>\n",
              "      <th>3</th>\n",
              "      <td>8.5</td>\n",
              "      <td>75</td>\n",
              "    </tr>\n",
              "    <tr>\n",
              "      <th>4</th>\n",
              "      <td>3.5</td>\n",
              "      <td>30</td>\n",
              "    </tr>\n",
              "    <tr>\n",
              "      <th>5</th>\n",
              "      <td>1.5</td>\n",
              "      <td>20</td>\n",
              "    </tr>\n",
              "    <tr>\n",
              "      <th>6</th>\n",
              "      <td>9.2</td>\n",
              "      <td>88</td>\n",
              "    </tr>\n",
              "    <tr>\n",
              "      <th>7</th>\n",
              "      <td>5.5</td>\n",
              "      <td>60</td>\n",
              "    </tr>\n",
              "    <tr>\n",
              "      <th>8</th>\n",
              "      <td>8.3</td>\n",
              "      <td>81</td>\n",
              "    </tr>\n",
              "    <tr>\n",
              "      <th>9</th>\n",
              "      <td>2.7</td>\n",
              "      <td>25</td>\n",
              "    </tr>\n",
              "    <tr>\n",
              "      <th>10</th>\n",
              "      <td>7.7</td>\n",
              "      <td>85</td>\n",
              "    </tr>\n",
              "    <tr>\n",
              "      <th>11</th>\n",
              "      <td>5.9</td>\n",
              "      <td>62</td>\n",
              "    </tr>\n",
              "    <tr>\n",
              "      <th>12</th>\n",
              "      <td>4.5</td>\n",
              "      <td>41</td>\n",
              "    </tr>\n",
              "    <tr>\n",
              "      <th>13</th>\n",
              "      <td>3.3</td>\n",
              "      <td>42</td>\n",
              "    </tr>\n",
              "    <tr>\n",
              "      <th>14</th>\n",
              "      <td>1.1</td>\n",
              "      <td>17</td>\n",
              "    </tr>\n",
              "    <tr>\n",
              "      <th>15</th>\n",
              "      <td>8.9</td>\n",
              "      <td>95</td>\n",
              "    </tr>\n",
              "    <tr>\n",
              "      <th>16</th>\n",
              "      <td>2.5</td>\n",
              "      <td>30</td>\n",
              "    </tr>\n",
              "    <tr>\n",
              "      <th>17</th>\n",
              "      <td>1.9</td>\n",
              "      <td>24</td>\n",
              "    </tr>\n",
              "    <tr>\n",
              "      <th>18</th>\n",
              "      <td>6.1</td>\n",
              "      <td>67</td>\n",
              "    </tr>\n",
              "    <tr>\n",
              "      <th>19</th>\n",
              "      <td>7.4</td>\n",
              "      <td>69</td>\n",
              "    </tr>\n",
              "    <tr>\n",
              "      <th>20</th>\n",
              "      <td>2.7</td>\n",
              "      <td>30</td>\n",
              "    </tr>\n",
              "    <tr>\n",
              "      <th>21</th>\n",
              "      <td>4.8</td>\n",
              "      <td>54</td>\n",
              "    </tr>\n",
              "    <tr>\n",
              "      <th>22</th>\n",
              "      <td>3.8</td>\n",
              "      <td>35</td>\n",
              "    </tr>\n",
              "    <tr>\n",
              "      <th>23</th>\n",
              "      <td>6.9</td>\n",
              "      <td>76</td>\n",
              "    </tr>\n",
              "    <tr>\n",
              "      <th>24</th>\n",
              "      <td>7.8</td>\n",
              "      <td>86</td>\n",
              "    </tr>\n",
              "  </tbody>\n",
              "</table>\n",
              "</div>\n",
              "      <button class=\"colab-df-convert\" onclick=\"convertToInteractive('df-d6052b70-0bca-41da-82d5-33cfbb1ab49f')\"\n",
              "              title=\"Convert this dataframe to an interactive table.\"\n",
              "              style=\"display:none;\">\n",
              "        \n",
              "  <svg xmlns=\"http://www.w3.org/2000/svg\" height=\"24px\"viewBox=\"0 0 24 24\"\n",
              "       width=\"24px\">\n",
              "    <path d=\"M0 0h24v24H0V0z\" fill=\"none\"/>\n",
              "    <path d=\"M18.56 5.44l.94 2.06.94-2.06 2.06-.94-2.06-.94-.94-2.06-.94 2.06-2.06.94zm-11 1L8.5 8.5l.94-2.06 2.06-.94-2.06-.94L8.5 2.5l-.94 2.06-2.06.94zm10 10l.94 2.06.94-2.06 2.06-.94-2.06-.94-.94-2.06-.94 2.06-2.06.94z\"/><path d=\"M17.41 7.96l-1.37-1.37c-.4-.4-.92-.59-1.43-.59-.52 0-1.04.2-1.43.59L10.3 9.45l-7.72 7.72c-.78.78-.78 2.05 0 2.83L4 21.41c.39.39.9.59 1.41.59.51 0 1.02-.2 1.41-.59l7.78-7.78 2.81-2.81c.8-.78.8-2.07 0-2.86zM5.41 20L4 18.59l7.72-7.72 1.47 1.35L5.41 20z\"/>\n",
              "  </svg>\n",
              "      </button>\n",
              "      \n",
              "  <style>\n",
              "    .colab-df-container {\n",
              "      display:flex;\n",
              "      flex-wrap:wrap;\n",
              "      gap: 12px;\n",
              "    }\n",
              "\n",
              "    .colab-df-convert {\n",
              "      background-color: #E8F0FE;\n",
              "      border: none;\n",
              "      border-radius: 50%;\n",
              "      cursor: pointer;\n",
              "      display: none;\n",
              "      fill: #1967D2;\n",
              "      height: 32px;\n",
              "      padding: 0 0 0 0;\n",
              "      width: 32px;\n",
              "    }\n",
              "\n",
              "    .colab-df-convert:hover {\n",
              "      background-color: #E2EBFA;\n",
              "      box-shadow: 0px 1px 2px rgba(60, 64, 67, 0.3), 0px 1px 3px 1px rgba(60, 64, 67, 0.15);\n",
              "      fill: #174EA6;\n",
              "    }\n",
              "\n",
              "    [theme=dark] .colab-df-convert {\n",
              "      background-color: #3B4455;\n",
              "      fill: #D2E3FC;\n",
              "    }\n",
              "\n",
              "    [theme=dark] .colab-df-convert:hover {\n",
              "      background-color: #434B5C;\n",
              "      box-shadow: 0px 1px 3px 1px rgba(0, 0, 0, 0.15);\n",
              "      filter: drop-shadow(0px 1px 2px rgba(0, 0, 0, 0.3));\n",
              "      fill: #FFFFFF;\n",
              "    }\n",
              "  </style>\n",
              "\n",
              "      <script>\n",
              "        const buttonEl =\n",
              "          document.querySelector('#df-d6052b70-0bca-41da-82d5-33cfbb1ab49f button.colab-df-convert');\n",
              "        buttonEl.style.display =\n",
              "          google.colab.kernel.accessAllowed ? 'block' : 'none';\n",
              "\n",
              "        async function convertToInteractive(key) {\n",
              "          const element = document.querySelector('#df-d6052b70-0bca-41da-82d5-33cfbb1ab49f');\n",
              "          const dataTable =\n",
              "            await google.colab.kernel.invokeFunction('convertToInteractive',\n",
              "                                                     [key], {});\n",
              "          if (!dataTable) return;\n",
              "\n",
              "          const docLinkHtml = 'Like what you see? Visit the ' +\n",
              "            '<a target=\"_blank\" href=https://colab.research.google.com/notebooks/data_table.ipynb>data table notebook</a>'\n",
              "            + ' to learn more about interactive tables.';\n",
              "          element.innerHTML = '';\n",
              "          dataTable['output_type'] = 'display_data';\n",
              "          await google.colab.output.renderOutput(dataTable, element);\n",
              "          const docLink = document.createElement('div');\n",
              "          docLink.innerHTML = docLinkHtml;\n",
              "          element.appendChild(docLink);\n",
              "        }\n",
              "      </script>\n",
              "    </div>\n",
              "  </div>\n",
              "  "
            ]
          },
          "metadata": {},
          "execution_count": 8
        }
      ]
    },
    {
      "cell_type": "code",
      "source": [
        "data.head()"
      ],
      "metadata": {
        "colab": {
          "base_uri": "https://localhost:8080/",
          "height": 206
        },
        "id": "wmNdA7-pAorh",
        "outputId": "d2288e35-58d8-4622-be26-85b4da4c4571"
      },
      "execution_count": null,
      "outputs": [
        {
          "output_type": "execute_result",
          "data": {
            "text/plain": [
              "   Hours  Scores\n",
              "0    2.5      21\n",
              "1    5.1      47\n",
              "2    3.2      27\n",
              "3    8.5      75\n",
              "4    3.5      30"
            ],
            "text/html": [
              "\n",
              "  <div id=\"df-781d5ea3-c43b-41f0-a479-6da0fe99a6ca\">\n",
              "    <div class=\"colab-df-container\">\n",
              "      <div>\n",
              "<style scoped>\n",
              "    .dataframe tbody tr th:only-of-type {\n",
              "        vertical-align: middle;\n",
              "    }\n",
              "\n",
              "    .dataframe tbody tr th {\n",
              "        vertical-align: top;\n",
              "    }\n",
              "\n",
              "    .dataframe thead th {\n",
              "        text-align: right;\n",
              "    }\n",
              "</style>\n",
              "<table border=\"1\" class=\"dataframe\">\n",
              "  <thead>\n",
              "    <tr style=\"text-align: right;\">\n",
              "      <th></th>\n",
              "      <th>Hours</th>\n",
              "      <th>Scores</th>\n",
              "    </tr>\n",
              "  </thead>\n",
              "  <tbody>\n",
              "    <tr>\n",
              "      <th>0</th>\n",
              "      <td>2.5</td>\n",
              "      <td>21</td>\n",
              "    </tr>\n",
              "    <tr>\n",
              "      <th>1</th>\n",
              "      <td>5.1</td>\n",
              "      <td>47</td>\n",
              "    </tr>\n",
              "    <tr>\n",
              "      <th>2</th>\n",
              "      <td>3.2</td>\n",
              "      <td>27</td>\n",
              "    </tr>\n",
              "    <tr>\n",
              "      <th>3</th>\n",
              "      <td>8.5</td>\n",
              "      <td>75</td>\n",
              "    </tr>\n",
              "    <tr>\n",
              "      <th>4</th>\n",
              "      <td>3.5</td>\n",
              "      <td>30</td>\n",
              "    </tr>\n",
              "  </tbody>\n",
              "</table>\n",
              "</div>\n",
              "      <button class=\"colab-df-convert\" onclick=\"convertToInteractive('df-781d5ea3-c43b-41f0-a479-6da0fe99a6ca')\"\n",
              "              title=\"Convert this dataframe to an interactive table.\"\n",
              "              style=\"display:none;\">\n",
              "        \n",
              "  <svg xmlns=\"http://www.w3.org/2000/svg\" height=\"24px\"viewBox=\"0 0 24 24\"\n",
              "       width=\"24px\">\n",
              "    <path d=\"M0 0h24v24H0V0z\" fill=\"none\"/>\n",
              "    <path d=\"M18.56 5.44l.94 2.06.94-2.06 2.06-.94-2.06-.94-.94-2.06-.94 2.06-2.06.94zm-11 1L8.5 8.5l.94-2.06 2.06-.94-2.06-.94L8.5 2.5l-.94 2.06-2.06.94zm10 10l.94 2.06.94-2.06 2.06-.94-2.06-.94-.94-2.06-.94 2.06-2.06.94z\"/><path d=\"M17.41 7.96l-1.37-1.37c-.4-.4-.92-.59-1.43-.59-.52 0-1.04.2-1.43.59L10.3 9.45l-7.72 7.72c-.78.78-.78 2.05 0 2.83L4 21.41c.39.39.9.59 1.41.59.51 0 1.02-.2 1.41-.59l7.78-7.78 2.81-2.81c.8-.78.8-2.07 0-2.86zM5.41 20L4 18.59l7.72-7.72 1.47 1.35L5.41 20z\"/>\n",
              "  </svg>\n",
              "      </button>\n",
              "      \n",
              "  <style>\n",
              "    .colab-df-container {\n",
              "      display:flex;\n",
              "      flex-wrap:wrap;\n",
              "      gap: 12px;\n",
              "    }\n",
              "\n",
              "    .colab-df-convert {\n",
              "      background-color: #E8F0FE;\n",
              "      border: none;\n",
              "      border-radius: 50%;\n",
              "      cursor: pointer;\n",
              "      display: none;\n",
              "      fill: #1967D2;\n",
              "      height: 32px;\n",
              "      padding: 0 0 0 0;\n",
              "      width: 32px;\n",
              "    }\n",
              "\n",
              "    .colab-df-convert:hover {\n",
              "      background-color: #E2EBFA;\n",
              "      box-shadow: 0px 1px 2px rgba(60, 64, 67, 0.3), 0px 1px 3px 1px rgba(60, 64, 67, 0.15);\n",
              "      fill: #174EA6;\n",
              "    }\n",
              "\n",
              "    [theme=dark] .colab-df-convert {\n",
              "      background-color: #3B4455;\n",
              "      fill: #D2E3FC;\n",
              "    }\n",
              "\n",
              "    [theme=dark] .colab-df-convert:hover {\n",
              "      background-color: #434B5C;\n",
              "      box-shadow: 0px 1px 3px 1px rgba(0, 0, 0, 0.15);\n",
              "      filter: drop-shadow(0px 1px 2px rgba(0, 0, 0, 0.3));\n",
              "      fill: #FFFFFF;\n",
              "    }\n",
              "  </style>\n",
              "\n",
              "      <script>\n",
              "        const buttonEl =\n",
              "          document.querySelector('#df-781d5ea3-c43b-41f0-a479-6da0fe99a6ca button.colab-df-convert');\n",
              "        buttonEl.style.display =\n",
              "          google.colab.kernel.accessAllowed ? 'block' : 'none';\n",
              "\n",
              "        async function convertToInteractive(key) {\n",
              "          const element = document.querySelector('#df-781d5ea3-c43b-41f0-a479-6da0fe99a6ca');\n",
              "          const dataTable =\n",
              "            await google.colab.kernel.invokeFunction('convertToInteractive',\n",
              "                                                     [key], {});\n",
              "          if (!dataTable) return;\n",
              "\n",
              "          const docLinkHtml = 'Like what you see? Visit the ' +\n",
              "            '<a target=\"_blank\" href=https://colab.research.google.com/notebooks/data_table.ipynb>data table notebook</a>'\n",
              "            + ' to learn more about interactive tables.';\n",
              "          element.innerHTML = '';\n",
              "          dataTable['output_type'] = 'display_data';\n",
              "          await google.colab.output.renderOutput(dataTable, element);\n",
              "          const docLink = document.createElement('div');\n",
              "          docLink.innerHTML = docLinkHtml;\n",
              "          element.appendChild(docLink);\n",
              "        }\n",
              "      </script>\n",
              "    </div>\n",
              "  </div>\n",
              "  "
            ]
          },
          "metadata": {},
          "execution_count": 9
        }
      ]
    },
    {
      "cell_type": "markdown",
      "source": [
        "**DataFrame - head() Function**\n",
        "\n",
        "**The head() function is used to get the first n rows. This function returns the first n rows for the object based on position.**"
      ],
      "metadata": {
        "id": "BsN_sWXMBHOy"
      }
    },
    {
      "cell_type": "code",
      "source": [
        "data.tail()"
      ],
      "metadata": {
        "colab": {
          "base_uri": "https://localhost:8080/",
          "height": 206
        },
        "id": "asYdo6hWAzKv",
        "outputId": "d2a27bae-fc1f-4e30-cb31-f00e26dca4a6"
      },
      "execution_count": null,
      "outputs": [
        {
          "output_type": "execute_result",
          "data": {
            "text/plain": [
              "    Hours  Scores\n",
              "20    2.7      30\n",
              "21    4.8      54\n",
              "22    3.8      35\n",
              "23    6.9      76\n",
              "24    7.8      86"
            ],
            "text/html": [
              "\n",
              "  <div id=\"df-868501c8-5638-4407-8aa4-27d0153cb0d6\">\n",
              "    <div class=\"colab-df-container\">\n",
              "      <div>\n",
              "<style scoped>\n",
              "    .dataframe tbody tr th:only-of-type {\n",
              "        vertical-align: middle;\n",
              "    }\n",
              "\n",
              "    .dataframe tbody tr th {\n",
              "        vertical-align: top;\n",
              "    }\n",
              "\n",
              "    .dataframe thead th {\n",
              "        text-align: right;\n",
              "    }\n",
              "</style>\n",
              "<table border=\"1\" class=\"dataframe\">\n",
              "  <thead>\n",
              "    <tr style=\"text-align: right;\">\n",
              "      <th></th>\n",
              "      <th>Hours</th>\n",
              "      <th>Scores</th>\n",
              "    </tr>\n",
              "  </thead>\n",
              "  <tbody>\n",
              "    <tr>\n",
              "      <th>20</th>\n",
              "      <td>2.7</td>\n",
              "      <td>30</td>\n",
              "    </tr>\n",
              "    <tr>\n",
              "      <th>21</th>\n",
              "      <td>4.8</td>\n",
              "      <td>54</td>\n",
              "    </tr>\n",
              "    <tr>\n",
              "      <th>22</th>\n",
              "      <td>3.8</td>\n",
              "      <td>35</td>\n",
              "    </tr>\n",
              "    <tr>\n",
              "      <th>23</th>\n",
              "      <td>6.9</td>\n",
              "      <td>76</td>\n",
              "    </tr>\n",
              "    <tr>\n",
              "      <th>24</th>\n",
              "      <td>7.8</td>\n",
              "      <td>86</td>\n",
              "    </tr>\n",
              "  </tbody>\n",
              "</table>\n",
              "</div>\n",
              "      <button class=\"colab-df-convert\" onclick=\"convertToInteractive('df-868501c8-5638-4407-8aa4-27d0153cb0d6')\"\n",
              "              title=\"Convert this dataframe to an interactive table.\"\n",
              "              style=\"display:none;\">\n",
              "        \n",
              "  <svg xmlns=\"http://www.w3.org/2000/svg\" height=\"24px\"viewBox=\"0 0 24 24\"\n",
              "       width=\"24px\">\n",
              "    <path d=\"M0 0h24v24H0V0z\" fill=\"none\"/>\n",
              "    <path d=\"M18.56 5.44l.94 2.06.94-2.06 2.06-.94-2.06-.94-.94-2.06-.94 2.06-2.06.94zm-11 1L8.5 8.5l.94-2.06 2.06-.94-2.06-.94L8.5 2.5l-.94 2.06-2.06.94zm10 10l.94 2.06.94-2.06 2.06-.94-2.06-.94-.94-2.06-.94 2.06-2.06.94z\"/><path d=\"M17.41 7.96l-1.37-1.37c-.4-.4-.92-.59-1.43-.59-.52 0-1.04.2-1.43.59L10.3 9.45l-7.72 7.72c-.78.78-.78 2.05 0 2.83L4 21.41c.39.39.9.59 1.41.59.51 0 1.02-.2 1.41-.59l7.78-7.78 2.81-2.81c.8-.78.8-2.07 0-2.86zM5.41 20L4 18.59l7.72-7.72 1.47 1.35L5.41 20z\"/>\n",
              "  </svg>\n",
              "      </button>\n",
              "      \n",
              "  <style>\n",
              "    .colab-df-container {\n",
              "      display:flex;\n",
              "      flex-wrap:wrap;\n",
              "      gap: 12px;\n",
              "    }\n",
              "\n",
              "    .colab-df-convert {\n",
              "      background-color: #E8F0FE;\n",
              "      border: none;\n",
              "      border-radius: 50%;\n",
              "      cursor: pointer;\n",
              "      display: none;\n",
              "      fill: #1967D2;\n",
              "      height: 32px;\n",
              "      padding: 0 0 0 0;\n",
              "      width: 32px;\n",
              "    }\n",
              "\n",
              "    .colab-df-convert:hover {\n",
              "      background-color: #E2EBFA;\n",
              "      box-shadow: 0px 1px 2px rgba(60, 64, 67, 0.3), 0px 1px 3px 1px rgba(60, 64, 67, 0.15);\n",
              "      fill: #174EA6;\n",
              "    }\n",
              "\n",
              "    [theme=dark] .colab-df-convert {\n",
              "      background-color: #3B4455;\n",
              "      fill: #D2E3FC;\n",
              "    }\n",
              "\n",
              "    [theme=dark] .colab-df-convert:hover {\n",
              "      background-color: #434B5C;\n",
              "      box-shadow: 0px 1px 3px 1px rgba(0, 0, 0, 0.15);\n",
              "      filter: drop-shadow(0px 1px 2px rgba(0, 0, 0, 0.3));\n",
              "      fill: #FFFFFF;\n",
              "    }\n",
              "  </style>\n",
              "\n",
              "      <script>\n",
              "        const buttonEl =\n",
              "          document.querySelector('#df-868501c8-5638-4407-8aa4-27d0153cb0d6 button.colab-df-convert');\n",
              "        buttonEl.style.display =\n",
              "          google.colab.kernel.accessAllowed ? 'block' : 'none';\n",
              "\n",
              "        async function convertToInteractive(key) {\n",
              "          const element = document.querySelector('#df-868501c8-5638-4407-8aa4-27d0153cb0d6');\n",
              "          const dataTable =\n",
              "            await google.colab.kernel.invokeFunction('convertToInteractive',\n",
              "                                                     [key], {});\n",
              "          if (!dataTable) return;\n",
              "\n",
              "          const docLinkHtml = 'Like what you see? Visit the ' +\n",
              "            '<a target=\"_blank\" href=https://colab.research.google.com/notebooks/data_table.ipynb>data table notebook</a>'\n",
              "            + ' to learn more about interactive tables.';\n",
              "          element.innerHTML = '';\n",
              "          dataTable['output_type'] = 'display_data';\n",
              "          await google.colab.output.renderOutput(dataTable, element);\n",
              "          const docLink = document.createElement('div');\n",
              "          docLink.innerHTML = docLinkHtml;\n",
              "          element.appendChild(docLink);\n",
              "        }\n",
              "      </script>\n",
              "    </div>\n",
              "  </div>\n",
              "  "
            ]
          },
          "metadata": {},
          "execution_count": 10
        }
      ]
    },
    {
      "cell_type": "markdown",
      "source": [
        "**DataFrame - tail() Function**\n",
        "\n",
        "**The tail() function is used to get the last n rows. This function returns the last n rows from the object based on position.**"
      ],
      "metadata": {
        "id": "9CKyCHdgBhXG"
      }
    },
    {
      "cell_type": "code",
      "source": [
        "data.shape"
      ],
      "metadata": {
        "colab": {
          "base_uri": "https://localhost:8080/"
        },
        "id": "H5BpCyyzA0ue",
        "outputId": "4b10b690-6128-4641-c52c-ac24c52689e2"
      },
      "execution_count": null,
      "outputs": [
        {
          "output_type": "execute_result",
          "data": {
            "text/plain": [
              "(25, 2)"
            ]
          },
          "metadata": {},
          "execution_count": 12
        }
      ]
    },
    {
      "cell_type": "markdown",
      "source": [
        "**DataFrame - shape Function**\n",
        "\n",
        "**The shape function is used to find the number of rows and columns.**"
      ],
      "metadata": {
        "id": "u912IYX7CRx2"
      }
    },
    {
      "cell_type": "code",
      "source": [
        "data.info()"
      ],
      "metadata": {
        "colab": {
          "base_uri": "https://localhost:8080/"
        },
        "id": "M8wYptYqCH9y",
        "outputId": "cb1ebcf4-9ef7-4b54-e8ba-510fa4f353d4"
      },
      "execution_count": null,
      "outputs": [
        {
          "output_type": "stream",
          "name": "stdout",
          "text": [
            "<class 'pandas.core.frame.DataFrame'>\n",
            "RangeIndex: 25 entries, 0 to 24\n",
            "Data columns (total 2 columns):\n",
            " #   Column  Non-Null Count  Dtype  \n",
            "---  ------  --------------  -----  \n",
            " 0   Hours   25 non-null     float64\n",
            " 1   Scores  25 non-null     int64  \n",
            "dtypes: float64(1), int64(1)\n",
            "memory usage: 528.0 bytes\n"
          ]
        }
      ]
    },
    {
      "cell_type": "markdown",
      "source": [
        "**Pandas DataFrame info() Method**\n",
        "\n",
        "**The info() method prints information about the DataFrame.**"
      ],
      "metadata": {
        "id": "N6ChwCLcE6tc"
      }
    },
    {
      "cell_type": "code",
      "source": [
        "data.describe()"
      ],
      "metadata": {
        "colab": {
          "base_uri": "https://localhost:8080/",
          "height": 300
        },
        "id": "Wqv0Hh24EPnu",
        "outputId": "f07829a2-29fd-4a25-8184-24cd0ffcf9c6"
      },
      "execution_count": null,
      "outputs": [
        {
          "output_type": "execute_result",
          "data": {
            "text/plain": [
              "           Hours     Scores\n",
              "count  25.000000  25.000000\n",
              "mean    5.012000  51.480000\n",
              "std     2.525094  25.286887\n",
              "min     1.100000  17.000000\n",
              "25%     2.700000  30.000000\n",
              "50%     4.800000  47.000000\n",
              "75%     7.400000  75.000000\n",
              "max     9.200000  95.000000"
            ],
            "text/html": [
              "\n",
              "  <div id=\"df-ab67166c-7fb4-465c-b157-aeee77c5595e\">\n",
              "    <div class=\"colab-df-container\">\n",
              "      <div>\n",
              "<style scoped>\n",
              "    .dataframe tbody tr th:only-of-type {\n",
              "        vertical-align: middle;\n",
              "    }\n",
              "\n",
              "    .dataframe tbody tr th {\n",
              "        vertical-align: top;\n",
              "    }\n",
              "\n",
              "    .dataframe thead th {\n",
              "        text-align: right;\n",
              "    }\n",
              "</style>\n",
              "<table border=\"1\" class=\"dataframe\">\n",
              "  <thead>\n",
              "    <tr style=\"text-align: right;\">\n",
              "      <th></th>\n",
              "      <th>Hours</th>\n",
              "      <th>Scores</th>\n",
              "    </tr>\n",
              "  </thead>\n",
              "  <tbody>\n",
              "    <tr>\n",
              "      <th>count</th>\n",
              "      <td>25.000000</td>\n",
              "      <td>25.000000</td>\n",
              "    </tr>\n",
              "    <tr>\n",
              "      <th>mean</th>\n",
              "      <td>5.012000</td>\n",
              "      <td>51.480000</td>\n",
              "    </tr>\n",
              "    <tr>\n",
              "      <th>std</th>\n",
              "      <td>2.525094</td>\n",
              "      <td>25.286887</td>\n",
              "    </tr>\n",
              "    <tr>\n",
              "      <th>min</th>\n",
              "      <td>1.100000</td>\n",
              "      <td>17.000000</td>\n",
              "    </tr>\n",
              "    <tr>\n",
              "      <th>25%</th>\n",
              "      <td>2.700000</td>\n",
              "      <td>30.000000</td>\n",
              "    </tr>\n",
              "    <tr>\n",
              "      <th>50%</th>\n",
              "      <td>4.800000</td>\n",
              "      <td>47.000000</td>\n",
              "    </tr>\n",
              "    <tr>\n",
              "      <th>75%</th>\n",
              "      <td>7.400000</td>\n",
              "      <td>75.000000</td>\n",
              "    </tr>\n",
              "    <tr>\n",
              "      <th>max</th>\n",
              "      <td>9.200000</td>\n",
              "      <td>95.000000</td>\n",
              "    </tr>\n",
              "  </tbody>\n",
              "</table>\n",
              "</div>\n",
              "      <button class=\"colab-df-convert\" onclick=\"convertToInteractive('df-ab67166c-7fb4-465c-b157-aeee77c5595e')\"\n",
              "              title=\"Convert this dataframe to an interactive table.\"\n",
              "              style=\"display:none;\">\n",
              "        \n",
              "  <svg xmlns=\"http://www.w3.org/2000/svg\" height=\"24px\"viewBox=\"0 0 24 24\"\n",
              "       width=\"24px\">\n",
              "    <path d=\"M0 0h24v24H0V0z\" fill=\"none\"/>\n",
              "    <path d=\"M18.56 5.44l.94 2.06.94-2.06 2.06-.94-2.06-.94-.94-2.06-.94 2.06-2.06.94zm-11 1L8.5 8.5l.94-2.06 2.06-.94-2.06-.94L8.5 2.5l-.94 2.06-2.06.94zm10 10l.94 2.06.94-2.06 2.06-.94-2.06-.94-.94-2.06-.94 2.06-2.06.94z\"/><path d=\"M17.41 7.96l-1.37-1.37c-.4-.4-.92-.59-1.43-.59-.52 0-1.04.2-1.43.59L10.3 9.45l-7.72 7.72c-.78.78-.78 2.05 0 2.83L4 21.41c.39.39.9.59 1.41.59.51 0 1.02-.2 1.41-.59l7.78-7.78 2.81-2.81c.8-.78.8-2.07 0-2.86zM5.41 20L4 18.59l7.72-7.72 1.47 1.35L5.41 20z\"/>\n",
              "  </svg>\n",
              "      </button>\n",
              "      \n",
              "  <style>\n",
              "    .colab-df-container {\n",
              "      display:flex;\n",
              "      flex-wrap:wrap;\n",
              "      gap: 12px;\n",
              "    }\n",
              "\n",
              "    .colab-df-convert {\n",
              "      background-color: #E8F0FE;\n",
              "      border: none;\n",
              "      border-radius: 50%;\n",
              "      cursor: pointer;\n",
              "      display: none;\n",
              "      fill: #1967D2;\n",
              "      height: 32px;\n",
              "      padding: 0 0 0 0;\n",
              "      width: 32px;\n",
              "    }\n",
              "\n",
              "    .colab-df-convert:hover {\n",
              "      background-color: #E2EBFA;\n",
              "      box-shadow: 0px 1px 2px rgba(60, 64, 67, 0.3), 0px 1px 3px 1px rgba(60, 64, 67, 0.15);\n",
              "      fill: #174EA6;\n",
              "    }\n",
              "\n",
              "    [theme=dark] .colab-df-convert {\n",
              "      background-color: #3B4455;\n",
              "      fill: #D2E3FC;\n",
              "    }\n",
              "\n",
              "    [theme=dark] .colab-df-convert:hover {\n",
              "      background-color: #434B5C;\n",
              "      box-shadow: 0px 1px 3px 1px rgba(0, 0, 0, 0.15);\n",
              "      filter: drop-shadow(0px 1px 2px rgba(0, 0, 0, 0.3));\n",
              "      fill: #FFFFFF;\n",
              "    }\n",
              "  </style>\n",
              "\n",
              "      <script>\n",
              "        const buttonEl =\n",
              "          document.querySelector('#df-ab67166c-7fb4-465c-b157-aeee77c5595e button.colab-df-convert');\n",
              "        buttonEl.style.display =\n",
              "          google.colab.kernel.accessAllowed ? 'block' : 'none';\n",
              "\n",
              "        async function convertToInteractive(key) {\n",
              "          const element = document.querySelector('#df-ab67166c-7fb4-465c-b157-aeee77c5595e');\n",
              "          const dataTable =\n",
              "            await google.colab.kernel.invokeFunction('convertToInteractive',\n",
              "                                                     [key], {});\n",
              "          if (!dataTable) return;\n",
              "\n",
              "          const docLinkHtml = 'Like what you see? Visit the ' +\n",
              "            '<a target=\"_blank\" href=https://colab.research.google.com/notebooks/data_table.ipynb>data table notebook</a>'\n",
              "            + ' to learn more about interactive tables.';\n",
              "          element.innerHTML = '';\n",
              "          dataTable['output_type'] = 'display_data';\n",
              "          await google.colab.output.renderOutput(dataTable, element);\n",
              "          const docLink = document.createElement('div');\n",
              "          docLink.innerHTML = docLinkHtml;\n",
              "          element.appendChild(docLink);\n",
              "        }\n",
              "      </script>\n",
              "    </div>\n",
              "  </div>\n",
              "  "
            ]
          },
          "metadata": {},
          "execution_count": 16
        }
      ]
    },
    {
      "cell_type": "code",
      "source": [],
      "metadata": {
        "id": "eNTekcc2FIOB"
      },
      "execution_count": null,
      "outputs": []
    },
    {
      "cell_type": "markdown",
      "source": [
        "**Pandas DataFrame describe() Method**\n",
        "\n",
        "**The describe() method returns description of the data in the DataFrame.**"
      ],
      "metadata": {
        "id": "AAmkfHkuFVDi"
      }
    },
    {
      "cell_type": "code",
      "source": [
        "data.isnull().sum()"
      ],
      "metadata": {
        "colab": {
          "base_uri": "https://localhost:8080/"
        },
        "id": "5DGGdZk1Fd6_",
        "outputId": "1758dd7e-86a1-494c-9cbc-81f135dc6a36"
      },
      "execution_count": null,
      "outputs": [
        {
          "output_type": "execute_result",
          "data": {
            "text/plain": [
              "Hours     0\n",
              "Scores    0\n",
              "dtype: int64"
            ]
          },
          "metadata": {},
          "execution_count": 17
        }
      ]
    },
    {
      "cell_type": "markdown",
      "source": [
        "**Dataframe. isnull().sum().**\n",
        "\n",
        "**Returns the number of missing values in the data set.**"
      ],
      "metadata": {
        "id": "iB8kmaSvFuV2"
      }
    },
    {
      "cell_type": "code",
      "source": [],
      "metadata": {
        "id": "PgSLuue7Fkjv"
      },
      "execution_count": null,
      "outputs": []
    },
    {
      "cell_type": "markdown",
      "source": [
        "# **Step 2 - Visualizing Dataset**\n",
        "\n",
        "To plot the dataset and check the relation between the variables"
      ],
      "metadata": {
        "id": "ttbMnTygGHdV"
      }
    },
    {
      "cell_type": "code",
      "source": [
        "data.plot(kind='scatter', x='Hours', y='Scores', color='blue')\n",
        "plt.title('Plot of Hours vs. Scores')\n",
        "plt.xlabel('Hours Studied')\n",
        "plt.ylabel('Percentage Scores')\n",
        "plt.show()"
      ],
      "metadata": {
        "colab": {
          "base_uri": "https://localhost:8080/",
          "height": 295
        },
        "id": "lEvyJJUoGNlH",
        "outputId": "e3592879-0d6c-42d7-a8a4-2962a09a365f"
      },
      "execution_count": null,
      "outputs": [
        {
          "output_type": "display_data",
          "data": {
            "text/plain": [
              "<Figure size 432x288 with 1 Axes>"
            ],
            "image/png": "[encoded data removed]"
          },
          "metadata": {
            "needs_background": "light"
          }
        }
      ]
    },
    {
      "cell_type": "markdown",
      "source": [
        "**Hence, the graph shows a positive linear relation between the number of hours studied and percentage of score. The percentage score increases as the hours studied increases.**"
      ],
      "metadata": {
        "id": "FD6P5LdmHJKW"
      }
    },
    {
      "cell_type": "markdown",
      "source": [
        "# **Step 3 - Data Preparation**"
      ],
      "metadata": {
        "id": "ADv1DHAGHnmC"
      }
    },
    {
      "cell_type": "markdown",
      "source": [
        "The next step is to divide the data into \"attributes\"(Inputs) and \"labels\"(Outputs)."
      ],
      "metadata": {
        "id": "PDz0KhoQH2zj"
      }
    },
    {
      "cell_type": "code",
      "source": [
        "x = data.iloc[:, :-1].values  \n",
        "y = data.iloc[:, 1].values"
      ],
      "metadata": {
        "id": "ONKLzEBhHt04"
      },
      "execution_count": null,
      "outputs": []
    },
    {
      "cell_type": "code",
      "source": [
        "x"
      ],
      "metadata": {
        "colab": {
          "base_uri": "https://localhost:8080/"
        },
        "id": "pDYTc2vmH-yD",
        "outputId": "83b0f3ed-188e-431f-c59a-d9441d6f44e8"
      },
      "execution_count": null,
      "outputs": [
        {
          "output_type": "execute_result",
          "data": {
            "text/plain": [
              "array([[2.5],\n",
              "       [5.1],\n",
              "       [3.2],\n",
              "       [8.5],\n",
              "       [3.5],\n",
              "       [1.5],\n",
              "       [9.2],\n",
              "       [5.5],\n",
              "       [8.3],\n",
              "       [2.7],\n",
              "       [7.7],\n",
              "       [5.9],\n",
              "       [4.5],\n",
              "       [3.3],\n",
              "       [1.1],\n",
              "       [8.9],\n",
              "       [2.5],\n",
              "       [1.9],\n",
              "       [6.1],\n",
              "       [7.4],\n",
              "       [2.7],\n",
              "       [4.8],\n",
              "       [3.8],\n",
              "       [6.9],\n",
              "       [7.8]])"
            ]
          },
          "metadata": {},
          "execution_count": 25
        }
      ]
    },
    {
      "cell_type": "code",
      "source": [
        "y"
      ],
      "metadata": {
        "colab": {
          "base_uri": "https://localhost:8080/"
        },
        "id": "seCb6Pe6IJZZ",
        "outputId": "39b58213-b654-4bbd-ffcb-1b7b53b6b53c"
      },
      "execution_count": null,
      "outputs": [
        {
          "output_type": "execute_result",
          "data": {
            "text/plain": [
              "array([21, 47, 27, 75, 30, 20, 88, 60, 81, 25, 85, 62, 41, 42, 17, 95, 30,\n",
              "       24, 67, 69, 30, 54, 35, 76, 86])"
            ]
          },
          "metadata": {},
          "execution_count": 26
        }
      ]
    },
    {
      "cell_type": "markdown",
      "source": [
        "# **Step 4. Training The Algorithm**\n",
        "\n",
        "**Splitting the data into training and testing sets, and training the algorithm**"
      ],
      "metadata": {
        "id": "E5jHIXN4Il46"
      }
    },
    {
      "cell_type": "code",
      "source": [
        "x_train, x_test, y_train, y_test = train_test_split(x, y, test_size=0.2, random_state=0)\n",
        "regr = linear_model.LinearRegression()\n",
        "regr.fit(x_train, y_train)\n",
        "print ('Train set:', x_train.shape,  y_train.shape)\n",
        "print ('Test set:', x_test.shape,  y_test.shape)"
      ],
      "metadata": {
        "colab": {
          "base_uri": "https://localhost:8080/"
        },
        "id": "b96aGJy0IV5O",
        "outputId": "ad3d4b22-78f8-45a2-a457-0036d19ec2ea"
      },
      "execution_count": null,
      "outputs": [
        {
          "output_type": "stream",
          "name": "stdout",
          "text": [
            "Train set: (20, 1) (20,)\n",
            "Test set: (5, 1) (5,)\n"
          ]
        }
      ]
    },
    {
      "cell_type": "markdown",
      "source": [
        "**Divided the data into training and testing sets and hence trained the model.**\n"
      ],
      "metadata": {
        "id": "1UCg0vnVJJZU"
      }
    },
    {
      "cell_type": "code",
      "source": [],
      "metadata": {
        "id": "kog0_NrvJALy"
      },
      "execution_count": null,
      "outputs": []
    },
    {
      "cell_type": "markdown",
      "source": [
        "# **Step 5. Plotting the Line of Regression**"
      ],
      "metadata": {
        "id": "zwy3pz01JxmS"
      }
    },
    {
      "cell_type": "code",
      "source": [
        "line = regr.coef_*x+regr.intercept_\n",
        "\n",
        "\n",
        "plt.scatter(x,y,color='blue')\n",
        "plt.plot(x,line,'-r')\n",
        "plt.show()"
      ],
      "metadata": {
        "colab": {
          "base_uri": "https://localhost:8080/",
          "height": 265
        },
        "id": "sTYWz04aJ3xo",
        "outputId": "f28bfeab-820e-4948-c9b5-5de1013687b8"
      },
      "execution_count": null,
      "outputs": [
        {
          "output_type": "display_data",
          "data": {
            "text/plain": [
              "<Figure size 432x288 with 1 Axes>"
            ],
            "image/png": "[encoded data removed]"
          },
          "metadata": {
            "needs_background": "light"
          }
        }
      ]
    },
    {
      "cell_type": "markdown",
      "source": [
        "**This is the visualization of the best-fit line of regression.**"
      ],
      "metadata": {
        "id": "F7mtGxaXKlgb"
      }
    },
    {
      "cell_type": "markdown",
      "source": [
        "# **Step 5 - Making Predictions**"
      ],
      "metadata": {
        "id": "6Jf-7MPXKu9R"
      }
    },
    {
      "cell_type": "code",
      "source": [
        "# Testing data - In hours\n",
        "print(x_test)\n",
        "# Model Prediction \n",
        "y_pred = regr.predict(x_test)"
      ],
      "metadata": {
        "colab": {
          "base_uri": "https://localhost:8080/"
        },
        "id": "WCzuJZ_nKzVC",
        "outputId": "85e51cdf-c31d-4c08-c9ed-2151dc283ba0"
      },
      "execution_count": null,
      "outputs": [
        {
          "output_type": "stream",
          "name": "stdout",
          "text": [
            "[[1.5]\n",
            " [3.2]\n",
            " [7.4]\n",
            " [2.5]\n",
            " [5.9]]\n"
          ]
        }
      ]
    },
    {
      "cell_type": "code",
      "source": [
        "y_pred"
      ],
      "metadata": {
        "colab": {
          "base_uri": "https://localhost:8080/"
        },
        "id": "WVUOXN7kLDRu",
        "outputId": "15c809f6-964c-4c2e-cde1-c26ae4c4621b"
      },
      "execution_count": null,
      "outputs": [
        {
          "output_type": "execute_result",
          "data": {
            "text/plain": [
              "array([16.88414476, 33.73226078, 75.357018  , 26.79480124, 60.49103328])"
            ]
          },
          "metadata": {},
          "execution_count": 35
        }
      ]
    },
    {
      "cell_type": "code",
      "source": [
        "y_test"
      ],
      "metadata": {
        "colab": {
          "base_uri": "https://localhost:8080/"
        },
        "id": "eLh-NkM8LSxr",
        "outputId": "b336b0cb-2439-49bc-bbab-0ebf3a780912"
      },
      "execution_count": null,
      "outputs": [
        {
          "output_type": "execute_result",
          "data": {
            "text/plain": [
              "array([20, 27, 69, 30, 62])"
            ]
          },
          "metadata": {},
          "execution_count": 40
        }
      ]
    },
    {
      "cell_type": "code",
      "source": [],
      "metadata": {
        "id": "m4yr6lrNLaF6"
      },
      "execution_count": null,
      "outputs": []
    },
    {
      "cell_type": "markdown",
      "source": [
        "# **Step 7. Comparing Actual result to the Predicted Model result**"
      ],
      "metadata": {
        "id": "h56m91_2MHja"
      }
    },
    {
      "cell_type": "code",
      "source": [
        "# Comparing Actual vs Predicted\n",
        "cp = pd.DataFrame({'Actual': y_test, 'Predicted': y_pred}) \n",
        "cp"
      ],
      "metadata": {
        "colab": {
          "base_uri": "https://localhost:8080/",
          "height": 206
        },
        "id": "aTBsAoMtMMdd",
        "outputId": "6329b818-976c-4896-d4ec-ac9c7daab43f"
      },
      "execution_count": null,
      "outputs": [
        {
          "output_type": "execute_result",
          "data": {
            "text/plain": [
              "   Actual  Predicted\n",
              "0      20  16.884145\n",
              "1      27  33.732261\n",
              "2      69  75.357018\n",
              "3      30  26.794801\n",
              "4      62  60.491033"
            ],
            "text/html": [
              "\n",
              "  <div id=\"df-415c9423-2232-4e03-8158-e98d96374a9a\">\n",
              "    <div class=\"colab-df-container\">\n",
              "      <div>\n",
              "<style scoped>\n",
              "    .dataframe tbody tr th:only-of-type {\n",
              "        vertical-align: middle;\n",
              "    }\n",
              "\n",
              "    .dataframe tbody tr th {\n",
              "        vertical-align: top;\n",
              "    }\n",
              "\n",
              "    .dataframe thead th {\n",
              "        text-align: right;\n",
              "    }\n",
              "</style>\n",
              "<table border=\"1\" class=\"dataframe\">\n",
              "  <thead>\n",
              "    <tr style=\"text-align: right;\">\n",
              "      <th></th>\n",
              "      <th>Actual</th>\n",
              "      <th>Predicted</th>\n",
              "    </tr>\n",
              "  </thead>\n",
              "  <tbody>\n",
              "    <tr>\n",
              "      <th>0</th>\n",
              "      <td>20</td>\n",
              "      <td>16.884145</td>\n",
              "    </tr>\n",
              "    <tr>\n",
              "      <th>1</th>\n",
              "      <td>27</td>\n",
              "      <td>33.732261</td>\n",
              "    </tr>\n",
              "    <tr>\n",
              "      <th>2</th>\n",
              "      <td>69</td>\n",
              "      <td>75.357018</td>\n",
              "    </tr>\n",
              "    <tr>\n",
              "      <th>3</th>\n",
              "      <td>30</td>\n",
              "      <td>26.794801</td>\n",
              "    </tr>\n",
              "    <tr>\n",
              "      <th>4</th>\n",
              "      <td>62</td>\n",
              "      <td>60.491033</td>\n",
              "    </tr>\n",
              "  </tbody>\n",
              "</table>\n",
              "</div>\n",
              "      <button class=\"colab-df-convert\" onclick=\"convertToInteractive('df-415c9423-2232-4e03-8158-e98d96374a9a')\"\n",
              "              title=\"Convert this dataframe to an interactive table.\"\n",
              "              style=\"display:none;\">\n",
              "        \n",
              "  <svg xmlns=\"http://www.w3.org/2000/svg\" height=\"24px\"viewBox=\"0 0 24 24\"\n",
              "       width=\"24px\">\n",
              "    <path d=\"M0 0h24v24H0V0z\" fill=\"none\"/>\n",
              "    <path d=\"M18.56 5.44l.94 2.06.94-2.06 2.06-.94-2.06-.94-.94-2.06-.94 2.06-2.06.94zm-11 1L8.5 8.5l.94-2.06 2.06-.94-2.06-.94L8.5 2.5l-.94 2.06-2.06.94zm10 10l.94 2.06.94-2.06 2.06-.94-2.06-.94-.94-2.06-.94 2.06-2.06.94z\"/><path d=\"M17.41 7.96l-1.37-1.37c-.4-.4-.92-.59-1.43-.59-.52 0-1.04.2-1.43.59L10.3 9.45l-7.72 7.72c-.78.78-.78 2.05 0 2.83L4 21.41c.39.39.9.59 1.41.59.51 0 1.02-.2 1.41-.59l7.78-7.78 2.81-2.81c.8-.78.8-2.07 0-2.86zM5.41 20L4 18.59l7.72-7.72 1.47 1.35L5.41 20z\"/>\n",
              "  </svg>\n",
              "      </button>\n",
              "      \n",
              "  <style>\n",
              "    .colab-df-container {\n",
              "      display:flex;\n",
              "      flex-wrap:wrap;\n",
              "      gap: 12px;\n",
              "    }\n",
              "\n",
              "    .colab-df-convert {\n",
              "      background-color: #E8F0FE;\n",
              "      border: none;\n",
              "      border-radius: 50%;\n",
              "      cursor: pointer;\n",
              "      display: none;\n",
              "      fill: #1967D2;\n",
              "      height: 32px;\n",
              "      padding: 0 0 0 0;\n",
              "      width: 32px;\n",
              "    }\n",
              "\n",
              "    .colab-df-convert:hover {\n",
              "      background-color: #E2EBFA;\n",
              "      box-shadow: 0px 1px 2px rgba(60, 64, 67, 0.3), 0px 1px 3px 1px rgba(60, 64, 67, 0.15);\n",
              "      fill: #174EA6;\n",
              "    }\n",
              "\n",
              "    [theme=dark] .colab-df-convert {\n",
              "      background-color: #3B4455;\n",
              "      fill: #D2E3FC;\n",
              "    }\n",
              "\n",
              "    [theme=dark] .colab-df-convert:hover {\n",
              "      background-color: #434B5C;\n",
              "      box-shadow: 0px 1px 3px 1px rgba(0, 0, 0, 0.15);\n",
              "      filter: drop-shadow(0px 1px 2px rgba(0, 0, 0, 0.3));\n",
              "      fill: #FFFFFF;\n",
              "    }\n",
              "  </style>\n",
              "\n",
              "      <script>\n",
              "        const buttonEl =\n",
              "          document.querySelector('#df-415c9423-2232-4e03-8158-e98d96374a9a button.colab-df-convert');\n",
              "        buttonEl.style.display =\n",
              "          google.colab.kernel.accessAllowed ? 'block' : 'none';\n",
              "\n",
              "        async function convertToInteractive(key) {\n",
              "          const element = document.querySelector('#df-415c9423-2232-4e03-8158-e98d96374a9a');\n",
              "          const dataTable =\n",
              "            await google.colab.kernel.invokeFunction('convertToInteractive',\n",
              "                                                     [key], {});\n",
              "          if (!dataTable) return;\n",
              "\n",
              "          const docLinkHtml = 'Like what you see? Visit the ' +\n",
              "            '<a target=\"_blank\" href=https://colab.research.google.com/notebooks/data_table.ipynb>data table notebook</a>'\n",
              "            + ' to learn more about interactive tables.';\n",
              "          element.innerHTML = '';\n",
              "          dataTable['output_type'] = 'display_data';\n",
              "          await google.colab.output.renderOutput(dataTable, element);\n",
              "          const docLink = document.createElement('div');\n",
              "          docLink.innerHTML = docLinkHtml;\n",
              "          element.appendChild(docLink);\n",
              "        }\n",
              "      </script>\n",
              "    </div>\n",
              "  </div>\n",
              "  "
            ]
          },
          "metadata": {},
          "execution_count": 29
        }
      ]
    },
    {
      "cell_type": "code",
      "source": [
        "#Estimating training and test score\n",
        "print(\"Training Score:\",regr.score(x_train,y_train))\n",
        "print(\"Test Score:\",regr.score(x_test,y_test))"
      ],
      "metadata": {
        "colab": {
          "base_uri": "https://localhost:8080/"
        },
        "id": "ozdKcGCoMTzS",
        "outputId": "5e3e889e-ca25-4352-8a16-27e5120e00c7"
      },
      "execution_count": null,
      "outputs": [
        {
          "output_type": "stream",
          "name": "stdout",
          "text": [
            "Training Score: 0.9515510725211552\n",
            "Test Score: 0.9454906892105354\n"
          ]
        }
      ]
    },
    {
      "cell_type": "code",
      "source": [
        "#Plotting the Bar graph to depict the difference between the actual and predicted value\n",
        "\n",
        "cp.plot(kind='bar',figsize=(5,5))\n",
        "plt.grid(which='major', linewidth='0.5', color='pink')\n",
        "plt.grid(which='minor', linewidth='0.5', color='blue')\n",
        "plt.show()"
      ],
      "metadata": {
        "colab": {
          "base_uri": "https://localhost:8080/",
          "height": 316
        },
        "id": "OrJU8Nc8Mm3j",
        "outputId": "35fd2eda-4939-45eb-a678-f01747b283a5"
      },
      "execution_count": null,
      "outputs": [
        {
          "output_type": "display_data",
          "data": {
            "text/plain": [
              "<Figure size 360x360 with 1 Axes>"
            ],
            "image/png": "[encoded data removed]"
          },
          "metadata": {
            "needs_background": "light"
          }
        }
      ]
    },
    {
      "cell_type": "markdown",
      "source": [
        "# **Step 8. Testing the model with our own data**"
      ],
      "metadata": {
        "id": "Ngjyb_1GM6Xp"
      }
    },
    {
      "cell_type": "code",
      "source": [
        "hrs = np.array(9.25)\n",
        "hrs = hrs.reshape(-1, 1)\n",
        "pred = regr.predict(hrs)\n",
        "print(\"No. of Hours Studied = {}\".format(hrs[0][0]))\n",
        "print(\"Predicted Score = {}\".format(pred[0]))"
      ],
      "metadata": {
        "colab": {
          "base_uri": "https://localhost:8080/"
        },
        "id": "LpjprgqwMw5l",
        "outputId": "d6165a1e-fa2d-4c33-97c7-f33bfae1ce06"
      },
      "execution_count": null,
      "outputs": [
        {
          "output_type": "stream",
          "name": "stdout",
          "text": [
            "No. of Hours Studied = 9.25\n",
            "Predicted Score = 93.69173248737539\n"
          ]
        }
      ]
    },
    {
      "cell_type": "markdown",
      "source": [
        "**If the number of hours studied is 9.25 hrs/day, the predicted score would be 93.69173248737539.**"
      ],
      "metadata": {
        "id": "YnP7AcbjNZQj"
      }
    },
    {
      "cell_type": "markdown",
      "source": [
        "# **Step 6 - Evaluating The Model**\n",
        "The final step is to evaluate the performance of model. This step is particularly important to compare how well different models perform on a particular dataset. Here different errors have been calculated to compare the model performance and predict the accuracy."
      ],
      "metadata": {
        "id": "eyy0JzblNtS9"
      }
    },
    {
      "cell_type": "code",
      "source": [
        "from sklearn import metrics \n",
        "print('Mean Absolute Error:',metrics.mean_absolute_error(y_test, y_pred)) \n",
        "print('Mean Squared Error:', metrics.mean_squared_error(y_test, y_pred))\n",
        "print('Root Mean Squared Error:', np.sqrt(metrics.mean_squared_error(y_test, y_pred)))\n",
        "print('R-Square:', metrics.r2_score(y_test, y_pred))"
      ],
      "metadata": {
        "colab": {
          "base_uri": "https://localhost:8080/"
        },
        "id": "FfUsmF5UNqxn",
        "outputId": "4e5bd5d3-6717-4dfa-dafb-edc4ff2e04a9"
      },
      "execution_count": null,
      "outputs": [
        {
          "output_type": "stream",
          "name": "stdout",
          "text": [
            "Mean Absolute Error: 4.183859899002982\n",
            "Mean Squared Error: 21.598769307217456\n",
            "Root Mean Squared Error: 4.647447612100373\n",
            "R-Square: 0.9454906892105354\n"
          ]
        }
      ]
    },
    {
      "cell_type": "markdown",
      "source": [
        "R-2 gives the score of model fit.\n",
        "\n",
        "In this case we have R-2 = 0.9454906892105355 which is actually a great score for this model.\n",
        "\n",
        "### Conclusion\n",
        "\n",
        "Succeesfully predicted the task using Supervised ML and was able to evaluate the model's performance based on various parameters.\n",
        "\n",
        "### Thank You !"
      ],
      "metadata": {
        "id": "_4wgSv-7OWW9"
      }
    },
    {
      "cell_type": "code",
      "source": [],
      "metadata": {
        "id": "vYGGMH-uN_7u"
      },
      "execution_count": null,
      "outputs": []
    }
  ]
}